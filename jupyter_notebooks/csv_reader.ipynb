{
 "cells": [
  {
   "cell_type": "code",
   "execution_count": 1,
   "metadata": {
    "collapsed": true,
    "deletable": true,
    "editable": true
   },
   "outputs": [],
   "source": [
    "import tensorflow as tf"
   ]
  },
  {
   "cell_type": "code",
   "execution_count": 2,
   "metadata": {
    "collapsed": true,
    "deletable": true,
    "editable": true
   },
   "outputs": [],
   "source": [
    "# data location (*.csv)\n",
    "data_dir = '../data'\n",
    "data_file_names = ['data1.csv', 'data2.csv']\n",
    "data_files = ['{}/{}'.format(data_dir, f) for f in data_file_names]"
   ]
  },
  {
   "cell_type": "code",
   "execution_count": 4,
   "metadata": {
    "collapsed": false,
    "deletable": true,
    "editable": true
   },
   "outputs": [],
   "source": [
    "# file name queue\n",
    "filename_queue = tf.train.string_input_producer(data_files)"
   ]
  },
  {
   "cell_type": "code",
   "execution_count": 5,
   "metadata": {
    "collapsed": false,
    "deletable": true,
    "editable": true
   },
   "outputs": [],
   "source": [
    "# reader\n",
    "reader = tf.TextLineReader(skip_header_lines=1)\n",
    "key, value = reader.read(filename_queue)"
   ]
  },
  {
   "cell_type": "code",
   "execution_count": 6,
   "metadata": {
    "collapsed": false,
    "deletable": true,
    "editable": true
   },
   "outputs": [],
   "source": [
    "# decoder\n",
    "record_defaults = [[0.0], [0.0], [0.0]]\n",
    "col1, col2, col3 = tf.decode_csv(value, record_defaults=record_defaults)\n",
    "features = tf.stack([col1, col2, col3])"
   ]
  },
  {
   "cell_type": "code",
   "execution_count": 10,
   "metadata": {
    "collapsed": false,
    "deletable": true,
    "editable": true
   },
   "outputs": [
    {
     "name": "stdout",
     "output_type": "stream",
     "text": [
      "---\n",
      "[ 100.  101.  102.]\n",
      "[ 200.  201.  202.]\n",
      "---\n",
      "[ 1.  2.  3.]\n",
      "[ 10.  11.  12.]\n",
      "---\n",
      "[ 21.  22.  23.]\n",
      "[ 1.  2.  3.]\n",
      "---\n",
      "[ 10.  11.  12.]\n",
      "[ 21.  22.  23.]\n",
      "---\n",
      "[ 100.  101.  102.]\n",
      "[ 200.  201.  202.]\n",
      "---\n",
      "[ 100.  101.  102.]\n",
      "[ 200.  201.  202.]\n",
      "---\n",
      "[ 1.  2.  3.]\n",
      "[ 10.  11.  12.]\n",
      "---\n",
      "[ 21.  22.  23.]\n",
      "[ 100.  101.  102.]\n",
      "---\n",
      "[ 200.  201.  202.]\n",
      "[ 1.  2.  3.]\n",
      "---\n",
      "[ 10.  11.  12.]\n",
      "[ 21.  22.  23.]\n",
      "---\n",
      "[ 100.  101.  102.]\n",
      "[ 200.  201.  202.]\n",
      "---\n",
      "[ 1.  2.  3.]\n",
      "[ 10.  11.  12.]\n",
      "---\n",
      "[ 21.  22.  23.]\n",
      "[ 100.  101.  102.]\n",
      "---\n",
      "[ 200.  201.  202.]\n",
      "[ 1.  2.  3.]\n",
      "---\n",
      "[ 10.  11.  12.]\n",
      "[ 21.  22.  23.]\n",
      "---\n",
      "[ 100.  101.  102.]\n",
      "[ 200.  201.  202.]\n",
      "---\n",
      "[ 1.  2.  3.]\n",
      "[ 10.  11.  12.]\n",
      "---\n",
      "[ 21.  22.  23.]\n",
      "[ 100.  101.  102.]\n",
      "---\n",
      "[ 200.  201.  202.]\n",
      "[ 1.  2.  3.]\n",
      "---\n",
      "[ 10.  11.  12.]\n",
      "[ 21.  22.  23.]\n"
     ]
    }
   ],
   "source": [
    "with tf.Session() as sess:\n",
    "    \n",
    "    # coordinator\n",
    "    coord = tf.train.Coordinator()\n",
    "    threads = tf.train.start_queue_runners(coord=coord)\n",
    "    \n",
    "    try:        \n",
    "        for i in range(20):\n",
    "            data1 = sess.run(features)\n",
    "            data2 = sess.run(features)\n",
    "            print('---')\n",
    "            print(data1)\n",
    "            print(data2)\n",
    "\n",
    "    except tf.errors.OutOfRangeError:        \n",
    "        print('Done training -- epoch limit reached')\n",
    "        \n",
    "    finally:\n",
    "        coord.request_stop()\n",
    "        \n",
    "    coord.join(threads)\n",
    "        "
   ]
  },
  {
   "cell_type": "code",
   "execution_count": null,
   "metadata": {
    "collapsed": true,
    "deletable": true,
    "editable": true
   },
   "outputs": [],
   "source": []
  },
  {
   "cell_type": "code",
   "execution_count": null,
   "metadata": {
    "collapsed": true
   },
   "outputs": [],
   "source": []
  }
 ],
 "metadata": {
  "kernelspec": {
   "display_name": "Python 2",
   "language": "python",
   "name": "python2"
  },
  "language_info": {
   "codemirror_mode": {
    "name": "ipython",
    "version": 2
   },
   "file_extension": ".py",
   "mimetype": "text/x-python",
   "name": "python",
   "nbconvert_exporter": "python",
   "pygments_lexer": "ipython2",
   "version": "2.7.12"
  }
 },
 "nbformat": 4,
 "nbformat_minor": 2
}
